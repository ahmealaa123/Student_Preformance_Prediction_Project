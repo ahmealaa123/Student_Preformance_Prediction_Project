{
 "cells": [
  {
   "cell_type": "markdown",
   "id": "da4ec0a4",
   "metadata": {},
   "source": [
    "## Predictive Analytics for Student Success(Model)"
   ]
  },
  {
   "cell_type": "markdown",
   "id": "4b2cb8fb",
   "metadata": {
    "jp-MarkdownHeadingCollapsed": true
   },
   "source": [
    "### CRISP_DM Methodological Steps:\n",
    "<ul>\n",
    "<li><a href=\"#1.Business_Understanding\">Business Understanding</a></li>\n",
    "<li><a href=\"#2.Data_Understanding\">Data Understanding</a></li>\n",
    "<li><a href=\"#3.Data_Preparation\">Data Preparation</a></li>\n",
    "<li><a href=\"#4.Modeling\">Modeling</a></li>\n",
    "<li><a href=\"#5.Evaluation\">Evaluation</a></li>\n",
    "<li><a href=\"#6.Deployment\">Deployment</a></li>\n",
    "</ul>"
   ]
  },
  {
   "cell_type": "markdown",
   "id": "39fa8bfe",
   "metadata": {},
   "source": [
    "# 1.Business_Understanding"
   ]
  },
  {
   "cell_type": "markdown",
   "id": "7e257133",
   "metadata": {},
   "source": [
    "### 1.Business Problem\n",
    "The project solves the problem of student dropout and underperformance. This issue leads to wasted potential, decreased motivation, and negative consequences. Predictive analytics identifies at-risk students and enables timely interventions. This approach improves student retention and success rates. Ultimately, it leads to better academic outcomes and a brighter future for students."
   ]
  },
  {
   "cell_type": "markdown",
   "id": "0369fba3",
   "metadata": {},
   "source": [
    "### 2.Business Goal\n",
    "\n",
    " The goal is to identify students who are at risk of dropping out or underperforming"
   ]
  },
  {
   "cell_type": "markdown",
   "id": "55dec074",
   "metadata": {},
   "source": [
    "<a id='intro'></a>\n",
    "## Introduction\n",
    "<span style=\"font-family:Impact; color: orange;\">This is summary about the students dataset an some information about the data and key attribute:\n",
    "</span>\n",
    "### About dataset\n",
    "1. **Student_ID**\n",
    "2. **Quiz01**\n",
    "3. **Assignment01**\n",
    "4. **Midterm Exam**\n",
    "5. **Assignment02**\n",
    "6. **Assignment03**\n",
    "7. **Final Exam**\n",
    "8. **Course Grade**\n",
    "9. **Total**\n",
    "10. **Risk_Rate**\n",
    "\n",
    "<span style=\"font-family:Impact; color: green;\">an Summary of Predictive Analytics for Student Success Project:\n",
    "</span>\n",
    "\n",
    "**This project aims to apply artificial intelligence and machine learning techniques to analyze student data and predict academic outcomes. By using a KNeighbors Classifier algorithm, the model identifies students who are at risk of dropping out or underperforming. This early identification allows for timely and targeted interventions. The project is crucial in the educational sector as it helps institutions proactively support students, thereby enhancing their chances of academic success and improving overall educational outcomes...**"
   ]
  },
  {
   "cell_type": "markdown",
   "id": "38b89043",
   "metadata": {},
   "source": [
    "###  Importing Necessary Libraries"
   ]
  },
  {
   "cell_type": "code",
   "execution_count": 70,
   "id": "01deaf11",
   "metadata": {},
   "outputs": [],
   "source": [
    "import pandas as pd  # Data manipulation and analysis\n",
    "import numpy as np  # Numerical computations\n",
    "import seaborn as sns  # Statistical data visualization\n",
    "import matplotlib.pyplot as plt  # Plotting and visualization\n",
    "import joblib\n",
    "\n",
    "\n",
    "from sklearn.preprocessing import OneHotEncoder, MinMaxScaler, LabelEncoder  # Encoding categorical variables and scaling features\n",
    "from sklearn.model_selection import train_test_split  # Data splitting and hyperparameter tuning\n",
    "from sklearn.neighbors import KNeighborsClassifier  # KNeighbors Classifier\n",
    "from sklearn.ensemble import RandomForestClassifier  # For classification\n",
    "from sklearn.linear_model import LogisticRegression   # Logistic Regression Classifier # Logistic Regression Classifier\n",
    "from sklearn.metrics import (accuracy_score,classification_report) # Metrics for model evaluation"
   ]
  },
  {
   "cell_type": "markdown",
   "id": "9a7e6cdc",
   "metadata": {},
   "source": [
    "# 2.Data_Understanding"
   ]
  },
  {
   "cell_type": "markdown",
   "id": "201e53d0",
   "metadata": {},
   "source": [
    "### Loading the Dataset"
   ]
  },
  {
   "cell_type": "code",
   "execution_count": 74,
   "id": "5bbae809",
   "metadata": {},
   "outputs": [],
   "source": [
    "df=pd.read_csv('Student Performance Prediction-B.csv')"
   ]
  },
  {
   "cell_type": "markdown",
   "id": "c3c7eb27",
   "metadata": {},
   "source": [
    "### Initial Data Exploration"
   ]
  },
  {
   "cell_type": "markdown",
   "id": "abc7b069",
   "metadata": {},
   "source": [
    "**View the first few rows of the dataset**"
   ]
  },
  {
   "cell_type": "code",
   "execution_count": 78,
   "id": "34065dcd",
   "metadata": {},
   "outputs": [
    {
     "data": {
      "text/html": [
       "<div>\n",
       "<style scoped>\n",
       "    .dataframe tbody tr th:only-of-type {\n",
       "        vertical-align: middle;\n",
       "    }\n",
       "\n",
       "    .dataframe tbody tr th {\n",
       "        vertical-align: top;\n",
       "    }\n",
       "\n",
       "    .dataframe thead th {\n",
       "        text-align: right;\n",
       "    }\n",
       "</style>\n",
       "<table border=\"1\" class=\"dataframe\">\n",
       "  <thead>\n",
       "    <tr style=\"text-align: right;\">\n",
       "      <th></th>\n",
       "      <th>Student ID</th>\n",
       "      <th>Quiz01 [10]</th>\n",
       "      <th>Assignment01 [8]</th>\n",
       "      <th>Midterm Exam [20]</th>\n",
       "      <th>Assignment02 [12]</th>\n",
       "      <th>Assignment03 [25]</th>\n",
       "      <th>Final Exam [35]</th>\n",
       "      <th>Course Grade</th>\n",
       "      <th>Total [100]</th>\n",
       "      <th>Class</th>\n",
       "    </tr>\n",
       "  </thead>\n",
       "  <tbody>\n",
       "    <tr>\n",
       "      <th>0</th>\n",
       "      <td>student000000</td>\n",
       "      <td>95</td>\n",
       "      <td>91</td>\n",
       "      <td>70</td>\n",
       "      <td>90</td>\n",
       "      <td>84</td>\n",
       "      <td>64</td>\n",
       "      <td>85</td>\n",
       "      <td>85</td>\n",
       "      <td>G</td>\n",
       "    </tr>\n",
       "    <tr>\n",
       "      <th>1</th>\n",
       "      <td>student000001</td>\n",
       "      <td>85</td>\n",
       "      <td>76</td>\n",
       "      <td>65</td>\n",
       "      <td>61</td>\n",
       "      <td>73</td>\n",
       "      <td>64</td>\n",
       "      <td>76</td>\n",
       "      <td>76</td>\n",
       "      <td>G</td>\n",
       "    </tr>\n",
       "    <tr>\n",
       "      <th>2</th>\n",
       "      <td>student000002</td>\n",
       "      <td>85</td>\n",
       "      <td>41</td>\n",
       "      <td>73</td>\n",
       "      <td>61</td>\n",
       "      <td>73</td>\n",
       "      <td>61</td>\n",
       "      <td>73</td>\n",
       "      <td>73</td>\n",
       "      <td>G</td>\n",
       "    </tr>\n",
       "    <tr>\n",
       "      <th>3</th>\n",
       "      <td>student000003</td>\n",
       "      <td>80</td>\n",
       "      <td>78</td>\n",
       "      <td>80</td>\n",
       "      <td>79</td>\n",
       "      <td>79</td>\n",
       "      <td>57</td>\n",
       "      <td>80</td>\n",
       "      <td>79</td>\n",
       "      <td>G</td>\n",
       "    </tr>\n",
       "    <tr>\n",
       "      <th>4</th>\n",
       "      <td>student000004</td>\n",
       "      <td>85</td>\n",
       "      <td>70</td>\n",
       "      <td>55</td>\n",
       "      <td>40</td>\n",
       "      <td>41</td>\n",
       "      <td>0</td>\n",
       "      <td>60</td>\n",
       "      <td>50</td>\n",
       "      <td>W</td>\n",
       "    </tr>\n",
       "  </tbody>\n",
       "</table>\n",
       "</div>"
      ],
      "text/plain": [
       "      Student ID  Quiz01 [10]  Assignment01 [8]  Midterm Exam [20]  \\\n",
       "0  student000000           95                91                 70   \n",
       "1  student000001           85                76                 65   \n",
       "2  student000002           85                41                 73   \n",
       "3  student000003           80                78                 80   \n",
       "4  student000004           85                70                 55   \n",
       "\n",
       "   Assignment02 [12]  Assignment03 [25]  Final Exam [35]  Course Grade  \\\n",
       "0                 90                 84               64            85   \n",
       "1                 61                 73               64            76   \n",
       "2                 61                 73               61            73   \n",
       "3                 79                 79               57            80   \n",
       "4                 40                 41                0            60   \n",
       "\n",
       "   Total [100] Class  \n",
       "0           85     G  \n",
       "1           76     G  \n",
       "2           73     G  \n",
       "3           79     G  \n",
       "4           50     W  "
      ]
     },
     "execution_count": 78,
     "metadata": {},
     "output_type": "execute_result"
    }
   ],
   "source": [
    "df.head()"
   ]
  },
  {
   "cell_type": "markdown",
   "id": "1f937c0b",
   "metadata": {},
   "source": [
    "**Get the shape of the dataset (number of rows and columns)**"
   ]
  },
  {
   "cell_type": "code",
   "execution_count": 81,
   "id": "fbdb66f2",
   "metadata": {},
   "outputs": [
    {
     "data": {
      "text/plain": [
       "(486, 10)"
      ]
     },
     "execution_count": 81,
     "metadata": {},
     "output_type": "execute_result"
    }
   ],
   "source": [
    "df.shape"
   ]
  },
  {
   "cell_type": "markdown",
   "id": "8c3aac7b",
   "metadata": {},
   "source": [
    "**Summary statistics to get an overview of the data (mean, standard deviation, min, max, etc.)**"
   ]
  },
  {
   "cell_type": "code",
   "execution_count": 84,
   "id": "17a5e8c2",
   "metadata": {},
   "outputs": [
    {
     "data": {
      "text/html": [
       "<div>\n",
       "<style scoped>\n",
       "    .dataframe tbody tr th:only-of-type {\n",
       "        vertical-align: middle;\n",
       "    }\n",
       "\n",
       "    .dataframe tbody tr th {\n",
       "        vertical-align: top;\n",
       "    }\n",
       "\n",
       "    .dataframe thead th {\n",
       "        text-align: right;\n",
       "    }\n",
       "</style>\n",
       "<table border=\"1\" class=\"dataframe\">\n",
       "  <thead>\n",
       "    <tr style=\"text-align: right;\">\n",
       "      <th></th>\n",
       "      <th>count</th>\n",
       "      <th>mean</th>\n",
       "      <th>std</th>\n",
       "      <th>min</th>\n",
       "      <th>25%</th>\n",
       "      <th>50%</th>\n",
       "      <th>75%</th>\n",
       "      <th>max</th>\n",
       "    </tr>\n",
       "  </thead>\n",
       "  <tbody>\n",
       "    <tr>\n",
       "      <th>Quiz01 [10]</th>\n",
       "      <td>486.0</td>\n",
       "      <td>75.353909</td>\n",
       "      <td>17.594817</td>\n",
       "      <td>0.0</td>\n",
       "      <td>70.0</td>\n",
       "      <td>80.0</td>\n",
       "      <td>85.00</td>\n",
       "      <td>100.0</td>\n",
       "    </tr>\n",
       "    <tr>\n",
       "      <th>Assignment01 [8]</th>\n",
       "      <td>486.0</td>\n",
       "      <td>73.508230</td>\n",
       "      <td>19.805314</td>\n",
       "      <td>0.0</td>\n",
       "      <td>67.0</td>\n",
       "      <td>78.0</td>\n",
       "      <td>86.00</td>\n",
       "      <td>99.0</td>\n",
       "    </tr>\n",
       "    <tr>\n",
       "      <th>Midterm Exam [20]</th>\n",
       "      <td>486.0</td>\n",
       "      <td>74.831276</td>\n",
       "      <td>15.523721</td>\n",
       "      <td>0.0</td>\n",
       "      <td>68.0</td>\n",
       "      <td>78.0</td>\n",
       "      <td>85.00</td>\n",
       "      <td>98.0</td>\n",
       "    </tr>\n",
       "    <tr>\n",
       "      <th>Assignment02 [12]</th>\n",
       "      <td>486.0</td>\n",
       "      <td>74.722222</td>\n",
       "      <td>18.134293</td>\n",
       "      <td>0.0</td>\n",
       "      <td>70.0</td>\n",
       "      <td>79.0</td>\n",
       "      <td>86.75</td>\n",
       "      <td>97.0</td>\n",
       "    </tr>\n",
       "    <tr>\n",
       "      <th>Assignment03 [25]</th>\n",
       "      <td>486.0</td>\n",
       "      <td>78.395062</td>\n",
       "      <td>16.517541</td>\n",
       "      <td>0.0</td>\n",
       "      <td>74.0</td>\n",
       "      <td>82.0</td>\n",
       "      <td>88.00</td>\n",
       "      <td>100.0</td>\n",
       "    </tr>\n",
       "    <tr>\n",
       "      <th>Final Exam [35]</th>\n",
       "      <td>486.0</td>\n",
       "      <td>60.269547</td>\n",
       "      <td>17.311440</td>\n",
       "      <td>0.0</td>\n",
       "      <td>51.0</td>\n",
       "      <td>63.0</td>\n",
       "      <td>73.00</td>\n",
       "      <td>93.0</td>\n",
       "    </tr>\n",
       "    <tr>\n",
       "      <th>Course Grade</th>\n",
       "      <td>486.0</td>\n",
       "      <td>77.831276</td>\n",
       "      <td>15.793915</td>\n",
       "      <td>0.0</td>\n",
       "      <td>73.0</td>\n",
       "      <td>82.0</td>\n",
       "      <td>87.00</td>\n",
       "      <td>100.0</td>\n",
       "    </tr>\n",
       "    <tr>\n",
       "      <th>Total [100]</th>\n",
       "      <td>486.0</td>\n",
       "      <td>77.893004</td>\n",
       "      <td>16.121474</td>\n",
       "      <td>0.0</td>\n",
       "      <td>73.0</td>\n",
       "      <td>82.0</td>\n",
       "      <td>87.00</td>\n",
       "      <td>102.0</td>\n",
       "    </tr>\n",
       "  </tbody>\n",
       "</table>\n",
       "</div>"
      ],
      "text/plain": [
       "                   count       mean        std  min   25%   50%    75%    max\n",
       "Quiz01 [10]        486.0  75.353909  17.594817  0.0  70.0  80.0  85.00  100.0\n",
       "Assignment01 [8]   486.0  73.508230  19.805314  0.0  67.0  78.0  86.00   99.0\n",
       "Midterm Exam [20]  486.0  74.831276  15.523721  0.0  68.0  78.0  85.00   98.0\n",
       "Assignment02 [12]  486.0  74.722222  18.134293  0.0  70.0  79.0  86.75   97.0\n",
       "Assignment03 [25]  486.0  78.395062  16.517541  0.0  74.0  82.0  88.00  100.0\n",
       "Final Exam [35]    486.0  60.269547  17.311440  0.0  51.0  63.0  73.00   93.0\n",
       "Course Grade       486.0  77.831276  15.793915  0.0  73.0  82.0  87.00  100.0\n",
       "Total [100]        486.0  77.893004  16.121474  0.0  73.0  82.0  87.00  102.0"
      ]
     },
     "execution_count": 84,
     "metadata": {},
     "output_type": "execute_result"
    }
   ],
   "source": [
    "df.describe().T"
   ]
  },
  {
   "cell_type": "markdown",
   "id": "6da28220",
   "metadata": {},
   "source": [
    "**Information about the dataset to see data types, non-null counts, etc**"
   ]
  },
  {
   "cell_type": "code",
   "execution_count": 87,
   "id": "4366b094",
   "metadata": {},
   "outputs": [
    {
     "name": "stdout",
     "output_type": "stream",
     "text": [
      "<class 'pandas.core.frame.DataFrame'>\n",
      "RangeIndex: 486 entries, 0 to 485\n",
      "Data columns (total 10 columns):\n",
      " #   Column             Non-Null Count  Dtype \n",
      "---  ------             --------------  ----- \n",
      " 0   Student ID         486 non-null    object\n",
      " 1   Quiz01 [10]        486 non-null    int64 \n",
      " 2   Assignment01 [8]   486 non-null    int64 \n",
      " 3   Midterm Exam [20]  486 non-null    int64 \n",
      " 4   Assignment02 [12]  486 non-null    int64 \n",
      " 5   Assignment03 [25]  486 non-null    int64 \n",
      " 6   Final Exam [35]    486 non-null    int64 \n",
      " 7   Course Grade       486 non-null    int64 \n",
      " 8   Total [100]        486 non-null    int64 \n",
      " 9   Class              486 non-null    object\n",
      "dtypes: int64(8), object(2)\n",
      "memory usage: 38.1+ KB\n"
     ]
    }
   ],
   "source": [
    "df.info()"
   ]
  },
  {
   "cell_type": "markdown",
   "id": "0d328aad",
   "metadata": {},
   "source": [
    "**Check for null values**"
   ]
  },
  {
   "cell_type": "code",
   "execution_count": 90,
   "id": "7cfb9669",
   "metadata": {},
   "outputs": [
    {
     "data": {
      "text/plain": [
       "Student ID           0\n",
       "Quiz01 [10]          0\n",
       "Assignment01 [8]     0\n",
       "Midterm Exam [20]    0\n",
       "Assignment02 [12]    0\n",
       "Assignment03 [25]    0\n",
       "Final Exam [35]      0\n",
       "Course Grade         0\n",
       "Total [100]          0\n",
       "Class                0\n",
       "dtype: int64"
      ]
     },
     "execution_count": 90,
     "metadata": {},
     "output_type": "execute_result"
    }
   ],
   "source": [
    "df.isnull().sum()"
   ]
  },
  {
   "cell_type": "markdown",
   "id": "c6bb602c",
   "metadata": {},
   "source": [
    "**Explor Data Analysis(EDA1)**"
   ]
  },
  {
   "cell_type": "code",
   "execution_count": 93,
   "id": "494e9661",
   "metadata": {},
   "outputs": [
    {
     "data": {
      "image/png": "[encoded data removed]",
      "text/plain": [
       "<Figure size 640x480 with 1 Axes>"
      ]
     },
     "metadata": {},
     "output_type": "display_data"
    }
   ],
   "source": [
    "ax=sns.boxplot(data=df,x='Class',y='Assignment01 [8]')"
   ]
  },
  {
   "cell_type": "markdown",
   "id": "ccaa3d51",
   "metadata": {},
   "source": [
    "**EDA2**"
   ]
  },
  {
   "cell_type": "code",
   "execution_count": 96,
   "id": "188e1dbe",
   "metadata": {},
   "outputs": [
    {
     "data": {
      "image/png": "[encoded data removed]",
      "text/plain": [
       "<Figure size 640x480 with 1 Axes>"
      ]
     },
     "metadata": {},
     "output_type": "display_data"
    }
   ],
   "source": [
    "ax = sns.scatterplot(data = df, \n",
    "                     x = 'Assignment02 [12]', \n",
    "                     y = 'Assignment03 [25]', \n",
    "                     hue = 'Class', \n",
    "                     style = 'Class', \n",
    "                     markers = ['^','o'], \n",
    "                     s = 150)\n",
    "ax = plt.legend(bbox_to_anchor = (1.02, 1), loc = 'upper left')"
   ]
  },
  {
   "cell_type": "markdown",
   "id": "e5170d59",
   "metadata": {},
   "source": [
    "**Check Balance(EDA3)**"
   ]
  },
  {
   "cell_type": "code",
   "execution_count": 99,
   "id": "4979c81b",
   "metadata": {},
   "outputs": [
    {
     "data": {
      "image/png": "[encoded data removed]",
      "text/plain": [
       "<Figure size 700x700 with 1 Axes>"
      ]
     },
     "metadata": {},
     "output_type": "display_data"
    }
   ],
   "source": [
    "#booking_status columns\n",
    "plt.figure(figsize=(7,7))\n",
    "plt.pie(x=df['Class'].value_counts(),labels=df['Class'].unique(),explode=[0.0,0.1],autopct='%0.2f%%',shadow=True)\n",
    "plt.show()"
   ]
  },
  {
   "cell_type": "markdown",
   "id": "a91f207c",
   "metadata": {},
   "source": [
    "**Some Information About The Data(EDA4)**"
   ]
  },
  {
   "cell_type": "code",
   "execution_count": 102,
   "id": "df3f0d82",
   "metadata": {
    "scrolled": true
   },
   "outputs": [
    {
     "data": {
      "text/plain": [
       "array([[<Axes: title={'center': 'Quiz01 [10]'}>,\n",
       "        <Axes: title={'center': 'Assignment01 [8]'}>,\n",
       "        <Axes: title={'center': 'Midterm Exam [20]'}>],\n",
       "       [<Axes: title={'center': 'Assignment02 [12]'}>,\n",
       "        <Axes: title={'center': 'Assignment03 [25]'}>,\n",
       "        <Axes: title={'center': 'Final Exam [35]'}>],\n",
       "       [<Axes: title={'center': 'Course Grade'}>,\n",
       "        <Axes: title={'center': 'Total [100]'}>, <Axes: >]], dtype=object)"
      ]
     },
     "execution_count": 102,
     "metadata": {},
     "output_type": "execute_result"
    },
    {
     "data": {
      "image/png": "[encoded data removed]",
      "text/plain": [
       "<Figure size 2000x1500 with 9 Axes>"
      ]
     },
     "metadata": {},
     "output_type": "display_data"
    }
   ],
   "source": [
    "df.hist(bins=20,figsize=(20,15))"
   ]
  },
  {
   "cell_type": "markdown",
   "id": "099596e4",
   "metadata": {},
   "source": [
    "# 3.Data_Preparation"
   ]
  },
  {
   "cell_type": "code",
   "execution_count": 104,
   "id": "1944e3bb",
   "metadata": {
    "scrolled": true
   },
   "outputs": [
    {
     "data": {
      "text/html": [
       "<div>\n",
       "<style scoped>\n",
       "    .dataframe tbody tr th:only-of-type {\n",
       "        vertical-align: middle;\n",
       "    }\n",
       "\n",
       "    .dataframe tbody tr th {\n",
       "        vertical-align: top;\n",
       "    }\n",
       "\n",
       "    .dataframe thead th {\n",
       "        text-align: right;\n",
       "    }\n",
       "</style>\n",
       "<table border=\"1\" class=\"dataframe\">\n",
       "  <thead>\n",
       "    <tr style=\"text-align: right;\">\n",
       "      <th></th>\n",
       "      <th>Student ID</th>\n",
       "      <th>Quiz01 [10]</th>\n",
       "      <th>Assignment01 [8]</th>\n",
       "      <th>Midterm Exam [20]</th>\n",
       "      <th>Assignment02 [12]</th>\n",
       "      <th>Assignment03 [25]</th>\n",
       "      <th>Final Exam [35]</th>\n",
       "      <th>Course Grade</th>\n",
       "      <th>Total [100]</th>\n",
       "      <th>Class</th>\n",
       "    </tr>\n",
       "  </thead>\n",
       "  <tbody>\n",
       "    <tr>\n",
       "      <th>0</th>\n",
       "      <td>student000000</td>\n",
       "      <td>95</td>\n",
       "      <td>91</td>\n",
       "      <td>70</td>\n",
       "      <td>90</td>\n",
       "      <td>84</td>\n",
       "      <td>64</td>\n",
       "      <td>85</td>\n",
       "      <td>85</td>\n",
       "      <td>G</td>\n",
       "    </tr>\n",
       "    <tr>\n",
       "      <th>1</th>\n",
       "      <td>student000001</td>\n",
       "      <td>85</td>\n",
       "      <td>76</td>\n",
       "      <td>65</td>\n",
       "      <td>61</td>\n",
       "      <td>73</td>\n",
       "      <td>64</td>\n",
       "      <td>76</td>\n",
       "      <td>76</td>\n",
       "      <td>G</td>\n",
       "    </tr>\n",
       "    <tr>\n",
       "      <th>2</th>\n",
       "      <td>student000002</td>\n",
       "      <td>85</td>\n",
       "      <td>41</td>\n",
       "      <td>73</td>\n",
       "      <td>61</td>\n",
       "      <td>73</td>\n",
       "      <td>61</td>\n",
       "      <td>73</td>\n",
       "      <td>73</td>\n",
       "      <td>G</td>\n",
       "    </tr>\n",
       "    <tr>\n",
       "      <th>3</th>\n",
       "      <td>student000003</td>\n",
       "      <td>80</td>\n",
       "      <td>78</td>\n",
       "      <td>80</td>\n",
       "      <td>79</td>\n",
       "      <td>79</td>\n",
       "      <td>57</td>\n",
       "      <td>80</td>\n",
       "      <td>79</td>\n",
       "      <td>G</td>\n",
       "    </tr>\n",
       "    <tr>\n",
       "      <th>4</th>\n",
       "      <td>student000004</td>\n",
       "      <td>85</td>\n",
       "      <td>70</td>\n",
       "      <td>55</td>\n",
       "      <td>40</td>\n",
       "      <td>41</td>\n",
       "      <td>0</td>\n",
       "      <td>60</td>\n",
       "      <td>50</td>\n",
       "      <td>W</td>\n",
       "    </tr>\n",
       "  </tbody>\n",
       "</table>\n",
       "</div>"
      ],
      "text/plain": [
       "      Student ID  Quiz01 [10]  Assignment01 [8]  Midterm Exam [20]  \\\n",
       "0  student000000           95                91                 70   \n",
       "1  student000001           85                76                 65   \n",
       "2  student000002           85                41                 73   \n",
       "3  student000003           80                78                 80   \n",
       "4  student000004           85                70                 55   \n",
       "\n",
       "   Assignment02 [12]  Assignment03 [25]  Final Exam [35]  Course Grade  \\\n",
       "0                 90                 84               64            85   \n",
       "1                 61                 73               64            76   \n",
       "2                 61                 73               61            73   \n",
       "3                 79                 79               57            80   \n",
       "4                 40                 41                0            60   \n",
       "\n",
       "   Total [100] Class  \n",
       "0           85     G  \n",
       "1           76     G  \n",
       "2           73     G  \n",
       "3           79     G  \n",
       "4           50     W  "
      ]
     },
     "execution_count": 104,
     "metadata": {},
     "output_type": "execute_result"
    }
   ],
   "source": [
    "df.head()"
   ]
  },
  {
   "cell_type": "markdown",
   "id": "7f23a053",
   "metadata": {},
   "source": [
    "**Convert X and Y to numpy arrays**"
   ]
  },
  {
   "cell_type": "code",
   "execution_count": 112,
   "id": "9eeb954c",
   "metadata": {},
   "outputs": [
    {
     "name": "stdout",
     "output_type": "stream",
     "text": [
      "(486, 8)\n",
      "(486,)\n"
     ]
    }
   ],
   "source": [
    "X = df.drop(columns=['Student ID','Class']).to_numpy()\n",
    "Y = df['Class'].to_numpy()\n",
    "\n",
    "# Print the shapes of X and Y\n",
    "print(X.shape)\n",
    "print(Y.shape)"
   ]
  },
  {
   "cell_type": "code",
   "execution_count": 114,
   "id": "baccaabb",
   "metadata": {},
   "outputs": [],
   "source": [
    "X_train,X_test,Y_train,Y_test=train_test_split(X,Y,test_size=0.2,random_state=42)"
   ]
  },
  {
   "cell_type": "markdown",
   "id": "ae995dd1",
   "metadata": {},
   "source": [
    "# 4.Modeling"
   ]
  },
  {
   "cell_type": "code",
   "execution_count": 117,
   "id": "701839d8",
   "metadata": {},
   "outputs": [
    {
     "data": {
      "text/html": [
       "<style>#sk-container-id-2 {\n",
       "  /* Definition of color scheme common for light and dark mode */\n",
       "  --sklearn-color-text: black;\n",
       "  --sklearn-color-line: gray;\n",
       "  /* Definition of color scheme for unfitted estimators */\n",
       "  --sklearn-color-unfitted-level-0: #fff5e6;\n",
       "  --sklearn-color-unfitted-level-1: #f6e4d2;\n",
       "  --sklearn-color-unfitted-level-2: #ffe0b3;\n",
       "  --sklearn-color-unfitted-level-3: chocolate;\n",
       "  /* Definition of color scheme for fitted estimators */\n",
       "  --sklearn-color-fitted-level-0: #f0f8ff;\n",
       "  --sklearn-color-fitted-level-1: #d4ebff;\n",
       "  --sklearn-color-fitted-level-2: #b3dbfd;\n",
       "  --sklearn-color-fitted-level-3: cornflowerblue;\n",
       "\n",
       "  /* Specific color for light theme */\n",
       "  --sklearn-color-text-on-default-background: var(--sg-text-color, var(--theme-code-foreground, var(--jp-content-font-color1, black)));\n",
       "  --sklearn-color-background: var(--sg-background-color, var(--theme-background, var(--jp-layout-color0, white)));\n",
       "  --sklearn-color-border-box: var(--sg-text-color, var(--theme-code-foreground, var(--jp-content-font-color1, black)));\n",
       "  --sklearn-color-icon: #696969;\n",
       "\n",
       "  @media (prefers-color-scheme: dark) {\n",
       "    /* Redefinition of color scheme for dark theme */\n",
       "    --sklearn-color-text-on-default-background: var(--sg-text-color, var(--theme-code-foreground, var(--jp-content-font-color1, white)));\n",
       "    --sklearn-color-background: var(--sg-background-color, var(--theme-background, var(--jp-layout-color0, #111)));\n",
       "    --sklearn-color-border-box: var(--sg-text-color, var(--theme-code-foreground, var(--jp-content-font-color1, white)));\n",
       "    --sklearn-color-icon: #878787;\n",
       "  }\n",
       "}\n",
       "\n",
       "#sk-container-id-2 {\n",
       "  color: var(--sklearn-color-text);\n",
       "}\n",
       "\n",
       "#sk-container-id-2 pre {\n",
       "  padding: 0;\n",
       "}\n",
       "\n",
       "#sk-container-id-2 input.sk-hidden--visually {\n",
       "  border: 0;\n",
       "  clip: rect(1px 1px 1px 1px);\n",
       "  clip: rect(1px, 1px, 1px, 1px);\n",
       "  height: 1px;\n",
       "  margin: -1px;\n",
       "  overflow: hidden;\n",
       "  padding: 0;\n",
       "  position: absolute;\n",
       "  width: 1px;\n",
       "}\n",
       "\n",
       "#sk-container-id-2 div.sk-dashed-wrapped {\n",
       "  border: 1px dashed var(--sklearn-color-line);\n",
       "  margin: 0 0.4em 0.5em 0.4em;\n",
       "  box-sizing: border-box;\n",
       "  padding-bottom: 0.4em;\n",
       "  background-color: var(--sklearn-color-background);\n",
       "}\n",
       "\n",
       "#sk-container-id-2 div.sk-container {\n",
       "  /* jupyter's `normalize.less` sets `[hidden] { display: none; }`\n",
       "     but bootstrap.min.css set `[hidden] { display: none !important; }`\n",
       "     so we also need the `!important` here to be able to override the\n",
       "     default hidden behavior on the sphinx rendered scikit-learn.org.\n",
       "     See: https://github.com/scikit-learn/scikit-learn/issues/21755 */\n",
       "  display: inline-block !important;\n",
       "  position: relative;\n",
       "}\n",
       "\n",
       "#sk-container-id-2 div.sk-text-repr-fallback {\n",
       "  display: none;\n",
       "}\n",
       "\n",
       "div.sk-parallel-item,\n",
       "div.sk-serial,\n",
       "div.sk-item {\n",
       "  /* draw centered vertical line to link estimators */\n",
       "  background-image: linear-gradient(var(--sklearn-color-text-on-default-background), var(--sklearn-color-text-on-default-background));\n",
       "  background-size: 2px 100%;\n",
       "  background-repeat: no-repeat;\n",
       "  background-position: center center;\n",
       "}\n",
       "\n",
       "/* Parallel-specific style estimator block */\n",
       "\n",
       "#sk-container-id-2 div.sk-parallel-item::after {\n",
       "  content: \"\";\n",
       "  width: 100%;\n",
       "  border-bottom: 2px solid var(--sklearn-color-text-on-default-background);\n",
       "  flex-grow: 1;\n",
       "}\n",
       "\n",
       "#sk-container-id-2 div.sk-parallel {\n",
       "  display: flex;\n",
       "  align-items: stretch;\n",
       "  justify-content: center;\n",
       "  background-color: var(--sklearn-color-background);\n",
       "  position: relative;\n",
       "}\n",
       "\n",
       "#sk-container-id-2 div.sk-parallel-item {\n",
       "  display: flex;\n",
       "  flex-direction: column;\n",
       "}\n",
       "\n",
       "#sk-container-id-2 div.sk-parallel-item:first-child::after {\n",
       "  align-self: flex-end;\n",
       "  width: 50%;\n",
       "}\n",
       "\n",
       "#sk-container-id-2 div.sk-parallel-item:last-child::after {\n",
       "  align-self: flex-start;\n",
       "  width: 50%;\n",
       "}\n",
       "\n",
       "#sk-container-id-2 div.sk-parallel-item:only-child::after {\n",
       "  width: 0;\n",
       "}\n",
       "\n",
       "/* Serial-specific style estimator block */\n",
       "\n",
       "#sk-container-id-2 div.sk-serial {\n",
       "  display: flex;\n",
       "  flex-direction: column;\n",
       "  align-items: center;\n",
       "  background-color: var(--sklearn-color-background);\n",
       "  padding-right: 1em;\n",
       "  padding-left: 1em;\n",
       "}\n",
       "\n",
       "\n",
       "/* Toggleable style: style used for estimator/Pipeline/ColumnTransformer box that is\n",
       "clickable and can be expanded/collapsed.\n",
       "- Pipeline and ColumnTransformer use this feature and define the default style\n",
       "- Estimators will overwrite some part of the style using the `sk-estimator` class\n",
       "*/\n",
       "\n",
       "/* Pipeline and ColumnTransformer style (default) */\n",
       "\n",
       "#sk-container-id-2 div.sk-toggleable {\n",
       "  /* Default theme specific background. It is overwritten whether we have a\n",
       "  specific estimator or a Pipeline/ColumnTransformer */\n",
       "  background-color: var(--sklearn-color-background);\n",
       "}\n",
       "\n",
       "/* Toggleable label */\n",
       "#sk-container-id-2 label.sk-toggleable__label {\n",
       "  cursor: pointer;\n",
       "  display: block;\n",
       "  width: 100%;\n",
       "  margin-bottom: 0;\n",
       "  padding: 0.5em;\n",
       "  box-sizing: border-box;\n",
       "  text-align: center;\n",
       "}\n",
       "\n",
       "#sk-container-id-2 label.sk-toggleable__label-arrow:before {\n",
       "  /* Arrow on the left of the label */\n",
       "  content: \"▸\";\n",
       "  float: left;\n",
       "  margin-right: 0.25em;\n",
       "  color: var(--sklearn-color-icon);\n",
       "}\n",
       "\n",
       "#sk-container-id-2 label.sk-toggleable__label-arrow:hover:before {\n",
       "  color: var(--sklearn-color-text);\n",
       "}\n",
       "\n",
       "/* Toggleable content - dropdown */\n",
       "\n",
       "#sk-container-id-2 div.sk-toggleable__content {\n",
       "  max-height: 0;\n",
       "  max-width: 0;\n",
       "  overflow: hidden;\n",
       "  text-align: left;\n",
       "  /* unfitted */\n",
       "  background-color: var(--sklearn-color-unfitted-level-0);\n",
       "}\n",
       "\n",
       "#sk-container-id-2 div.sk-toggleable__content.fitted {\n",
       "  /* fitted */\n",
       "  background-color: var(--sklearn-color-fitted-level-0);\n",
       "}\n",
       "\n",
       "#sk-container-id-2 div.sk-toggleable__content pre {\n",
       "  margin: 0.2em;\n",
       "  border-radius: 0.25em;\n",
       "  color: var(--sklearn-color-text);\n",
       "  /* unfitted */\n",
       "  background-color: var(--sklearn-color-unfitted-level-0);\n",
       "}\n",
       "\n",
       "#sk-container-id-2 div.sk-toggleable__content.fitted pre {\n",
       "  /* unfitted */\n",
       "  background-color: var(--sklearn-color-fitted-level-0);\n",
       "}\n",
       "\n",
       "#sk-container-id-2 input.sk-toggleable__control:checked~div.sk-toggleable__content {\n",
       "  /* Expand drop-down */\n",
       "  max-height: 200px;\n",
       "  max-width: 100%;\n",
       "  overflow: auto;\n",
       "}\n",
       "\n",
       "#sk-container-id-2 input.sk-toggleable__control:checked~label.sk-toggleable__label-arrow:before {\n",
       "  content: \"▾\";\n",
       "}\n",
       "\n",
       "/* Pipeline/ColumnTransformer-specific style */\n",
       "\n",
       "#sk-container-id-2 div.sk-label input.sk-toggleable__control:checked~label.sk-toggleable__label {\n",
       "  color: var(--sklearn-color-text);\n",
       "  background-color: var(--sklearn-color-unfitted-level-2);\n",
       "}\n",
       "\n",
       "#sk-container-id-2 div.sk-label.fitted input.sk-toggleable__control:checked~label.sk-toggleable__label {\n",
       "  background-color: var(--sklearn-color-fitted-level-2);\n",
       "}\n",
       "\n",
       "/* Estimator-specific style */\n",
       "\n",
       "/* Colorize estimator box */\n",
       "#sk-container-id-2 div.sk-estimator input.sk-toggleable__control:checked~label.sk-toggleable__label {\n",
       "  /* unfitted */\n",
       "  background-color: var(--sklearn-color-unfitted-level-2);\n",
       "}\n",
       "\n",
       "#sk-container-id-2 div.sk-estimator.fitted input.sk-toggleable__control:checked~label.sk-toggleable__label {\n",
       "  /* fitted */\n",
       "  background-color: var(--sklearn-color-fitted-level-2);\n",
       "}\n",
       "\n",
       "#sk-container-id-2 div.sk-label label.sk-toggleable__label,\n",
       "#sk-container-id-2 div.sk-label label {\n",
       "  /* The background is the default theme color */\n",
       "  color: var(--sklearn-color-text-on-default-background);\n",
       "}\n",
       "\n",
       "/* On hover, darken the color of the background */\n",
       "#sk-container-id-2 div.sk-label:hover label.sk-toggleable__label {\n",
       "  color: var(--sklearn-color-text);\n",
       "  background-color: var(--sklearn-color-unfitted-level-2);\n",
       "}\n",
       "\n",
       "/* Label box, darken color on hover, fitted */\n",
       "#sk-container-id-2 div.sk-label.fitted:hover label.sk-toggleable__label.fitted {\n",
       "  color: var(--sklearn-color-text);\n",
       "  background-color: var(--sklearn-color-fitted-level-2);\n",
       "}\n",
       "\n",
       "/* Estimator label */\n",
       "\n",
       "#sk-container-id-2 div.sk-label label {\n",
       "  font-family: monospace;\n",
       "  font-weight: bold;\n",
       "  display: inline-block;\n",
       "  line-height: 1.2em;\n",
       "}\n",
       "\n",
       "#sk-container-id-2 div.sk-label-container {\n",
       "  text-align: center;\n",
       "}\n",
       "\n",
       "/* Estimator-specific */\n",
       "#sk-container-id-2 div.sk-estimator {\n",
       "  font-family: monospace;\n",
       "  border: 1px dotted var(--sklearn-color-border-box);\n",
       "  border-radius: 0.25em;\n",
       "  box-sizing: border-box;\n",
       "  margin-bottom: 0.5em;\n",
       "  /* unfitted */\n",
       "  background-color: var(--sklearn-color-unfitted-level-0);\n",
       "}\n",
       "\n",
       "#sk-container-id-2 div.sk-estimator.fitted {\n",
       "  /* fitted */\n",
       "  background-color: var(--sklearn-color-fitted-level-0);\n",
       "}\n",
       "\n",
       "/* on hover */\n",
       "#sk-container-id-2 div.sk-estimator:hover {\n",
       "  /* unfitted */\n",
       "  background-color: var(--sklearn-color-unfitted-level-2);\n",
       "}\n",
       "\n",
       "#sk-container-id-2 div.sk-estimator.fitted:hover {\n",
       "  /* fitted */\n",
       "  background-color: var(--sklearn-color-fitted-level-2);\n",
       "}\n",
       "\n",
       "/* Specification for estimator info (e.g. \"i\" and \"?\") */\n",
       "\n",
       "/* Common style for \"i\" and \"?\" */\n",
       "\n",
       ".sk-estimator-doc-link,\n",
       "a:link.sk-estimator-doc-link,\n",
       "a:visited.sk-estimator-doc-link {\n",
       "  float: right;\n",
       "  font-size: smaller;\n",
       "  line-height: 1em;\n",
       "  font-family: monospace;\n",
       "  background-color: var(--sklearn-color-background);\n",
       "  border-radius: 1em;\n",
       "  height: 1em;\n",
       "  width: 1em;\n",
       "  text-decoration: none !important;\n",
       "  margin-left: 1ex;\n",
       "  /* unfitted */\n",
       "  border: var(--sklearn-color-unfitted-level-1) 1pt solid;\n",
       "  color: var(--sklearn-color-unfitted-level-1);\n",
       "}\n",
       "\n",
       ".sk-estimator-doc-link.fitted,\n",
       "a:link.sk-estimator-doc-link.fitted,\n",
       "a:visited.sk-estimator-doc-link.fitted {\n",
       "  /* fitted */\n",
       "  border: var(--sklearn-color-fitted-level-1) 1pt solid;\n",
       "  color: var(--sklearn-color-fitted-level-1);\n",
       "}\n",
       "\n",
       "/* On hover */\n",
       "div.sk-estimator:hover .sk-estimator-doc-link:hover,\n",
       ".sk-estimator-doc-link:hover,\n",
       "div.sk-label-container:hover .sk-estimator-doc-link:hover,\n",
       ".sk-estimator-doc-link:hover {\n",
       "  /* unfitted */\n",
       "  background-color: var(--sklearn-color-unfitted-level-3);\n",
       "  color: var(--sklearn-color-background);\n",
       "  text-decoration: none;\n",
       "}\n",
       "\n",
       "div.sk-estimator.fitted:hover .sk-estimator-doc-link.fitted:hover,\n",
       ".sk-estimator-doc-link.fitted:hover,\n",
       "div.sk-label-container:hover .sk-estimator-doc-link.fitted:hover,\n",
       ".sk-estimator-doc-link.fitted:hover {\n",
       "  /* fitted */\n",
       "  background-color: var(--sklearn-color-fitted-level-3);\n",
       "  color: var(--sklearn-color-background);\n",
       "  text-decoration: none;\n",
       "}\n",
       "\n",
       "/* Span, style for the box shown on hovering the info icon */\n",
       ".sk-estimator-doc-link span {\n",
       "  display: none;\n",
       "  z-index: 9999;\n",
       "  position: relative;\n",
       "  font-weight: normal;\n",
       "  right: .2ex;\n",
       "  padding: .5ex;\n",
       "  margin: .5ex;\n",
       "  width: min-content;\n",
       "  min-width: 20ex;\n",
       "  max-width: 50ex;\n",
       "  color: var(--sklearn-color-text);\n",
       "  box-shadow: 2pt 2pt 4pt #999;\n",
       "  /* unfitted */\n",
       "  background: var(--sklearn-color-unfitted-level-0);\n",
       "  border: .5pt solid var(--sklearn-color-unfitted-level-3);\n",
       "}\n",
       "\n",
       ".sk-estimator-doc-link.fitted span {\n",
       "  /* fitted */\n",
       "  background: var(--sklearn-color-fitted-level-0);\n",
       "  border: var(--sklearn-color-fitted-level-3);\n",
       "}\n",
       "\n",
       ".sk-estimator-doc-link:hover span {\n",
       "  display: block;\n",
       "}\n",
       "\n",
       "/* \"?\"-specific style due to the `<a>` HTML tag */\n",
       "\n",
       "#sk-container-id-2 a.estimator_doc_link {\n",
       "  float: right;\n",
       "  font-size: 1rem;\n",
       "  line-height: 1em;\n",
       "  font-family: monospace;\n",
       "  background-color: var(--sklearn-color-background);\n",
       "  border-radius: 1rem;\n",
       "  height: 1rem;\n",
       "  width: 1rem;\n",
       "  text-decoration: none;\n",
       "  /* unfitted */\n",
       "  color: var(--sklearn-color-unfitted-level-1);\n",
       "  border: var(--sklearn-color-unfitted-level-1) 1pt solid;\n",
       "}\n",
       "\n",
       "#sk-container-id-2 a.estimator_doc_link.fitted {\n",
       "  /* fitted */\n",
       "  border: var(--sklearn-color-fitted-level-1) 1pt solid;\n",
       "  color: var(--sklearn-color-fitted-level-1);\n",
       "}\n",
       "\n",
       "/* On hover */\n",
       "#sk-container-id-2 a.estimator_doc_link:hover {\n",
       "  /* unfitted */\n",
       "  background-color: var(--sklearn-color-unfitted-level-3);\n",
       "  color: var(--sklearn-color-background);\n",
       "  text-decoration: none;\n",
       "}\n",
       "\n",
       "#sk-container-id-2 a.estimator_doc_link.fitted:hover {\n",
       "  /* fitted */\n",
       "  background-color: var(--sklearn-color-fitted-level-3);\n",
       "}\n",
       "</style><div id=\"sk-container-id-2\" class=\"sk-top-container\"><div class=\"sk-text-repr-fallback\"><pre>KNeighborsClassifier()</pre><b>In a Jupyter environment, please rerun this cell to show the HTML representation or trust the notebook. <br />On GitHub, the HTML representation is unable to render, please try loading this page with nbviewer.org.</b></div><div class=\"sk-container\" hidden><div class=\"sk-item\"><div class=\"sk-estimator fitted sk-toggleable\"><input class=\"sk-toggleable__control sk-hidden--visually\" id=\"sk-estimator-id-2\" type=\"checkbox\" checked><label for=\"sk-estimator-id-2\" class=\"sk-toggleable__label fitted sk-toggleable__label-arrow fitted\">&nbsp;&nbsp;KNeighborsClassifier<a class=\"sk-estimator-doc-link fitted\" rel=\"noreferrer\" target=\"_blank\" href=\"https://scikit-learn.org/1.5/modules/generated/sklearn.neighbors.KNeighborsClassifier.html\">?<span>Documentation for KNeighborsClassifier</span></a><span class=\"sk-estimator-doc-link fitted\">i<span>Fitted</span></span></label><div class=\"sk-toggleable__content fitted\"><pre>KNeighborsClassifier()</pre></div> </div></div></div></div>"
      ],
      "text/plain": [
       "KNeighborsClassifier()"
      ]
     },
     "execution_count": 117,
     "metadata": {},
     "output_type": "execute_result"
    }
   ],
   "source": [
    "model=KNeighborsClassifier()\n",
    "model.fit(X_train,Y_train)"
   ]
  },
  {
   "cell_type": "markdown",
   "id": "04f0248e",
   "metadata": {},
   "source": [
    "# 5.Evaluation"
   ]
  },
  {
   "cell_type": "code",
   "execution_count": 120,
   "id": "42a6af35",
   "metadata": {},
   "outputs": [],
   "source": [
    "y_pred_log = model.predict(X_test)"
   ]
  },
  {
   "cell_type": "markdown",
   "id": "34aec5f0",
   "metadata": {},
   "source": [
    "**Model training accuracy**"
   ]
  },
  {
   "cell_type": "code",
   "execution_count": 123,
   "id": "f67615fc",
   "metadata": {},
   "outputs": [
    {
     "data": {
      "text/plain": [
       "0.9819587628865979"
      ]
     },
     "execution_count": 123,
     "metadata": {},
     "output_type": "execute_result"
    }
   ],
   "source": [
    "model.score(X_train,Y_train)"
   ]
  },
  {
   "cell_type": "markdown",
   "id": "87584704",
   "metadata": {},
   "source": [
    "**Model testing accuracy**"
   ]
  },
  {
   "cell_type": "code",
   "execution_count": 126,
   "id": "8ca8d65c",
   "metadata": {},
   "outputs": [
    {
     "data": {
      "text/plain": [
       "0.9693877551020408"
      ]
     },
     "execution_count": 126,
     "metadata": {},
     "output_type": "execute_result"
    }
   ],
   "source": [
    "model.score(X_test,Y_test)"
   ]
  },
  {
   "cell_type": "markdown",
   "id": "5676475e",
   "metadata": {},
   "source": [
    "**Save the trained model**"
   ]
  },
  {
   "cell_type": "code",
   "execution_count": 129,
   "id": "0aeb65a0",
   "metadata": {},
   "outputs": [
    {
     "name": "stdout",
     "output_type": "stream",
     "text": [
      "model saved as KNeighborsClassifier.pkl.\n"
     ]
    }
   ],
   "source": [
    "model_file = 'KNeighborsClassifier.pkl'\n",
    "joblib.dump(model, model_file)\n",
    "print(f\"model saved as {model_file}.\")"
   ]
  },
  {
   "cell_type": "markdown",
   "id": "aa6f35ee",
   "metadata": {},
   "source": [
    "# 6.Deployment"
   ]
  },
  {
   "cell_type": "code",
   "execution_count": 62,
   "id": "28aac6de-30b4-487f-b391-9310e0b17f95",
   "metadata": {},
   "outputs": [
    {
     "data": {
      "text/html": [
       "<div>\n",
       "<style scoped>\n",
       "    .dataframe tbody tr th:only-of-type {\n",
       "        vertical-align: middle;\n",
       "    }\n",
       "\n",
       "    .dataframe tbody tr th {\n",
       "        vertical-align: top;\n",
       "    }\n",
       "\n",
       "    .dataframe thead th {\n",
       "        text-align: right;\n",
       "    }\n",
       "</style>\n",
       "<table border=\"1\" class=\"dataframe\">\n",
       "  <thead>\n",
       "    <tr style=\"text-align: right;\">\n",
       "      <th></th>\n",
       "      <th>Student ID</th>\n",
       "      <th>Quiz01 [10]</th>\n",
       "      <th>Assignment01 [8]</th>\n",
       "      <th>Midterm Exam [20]</th>\n",
       "      <th>Assignment02 [12]</th>\n",
       "      <th>Assignment03 [25]</th>\n",
       "      <th>Final Exam [35]</th>\n",
       "      <th>Course Grade</th>\n",
       "      <th>Total [100]</th>\n",
       "      <th>Class</th>\n",
       "    </tr>\n",
       "  </thead>\n",
       "  <tbody>\n",
       "    <tr>\n",
       "      <th>0</th>\n",
       "      <td>student000000</td>\n",
       "      <td>95</td>\n",
       "      <td>91</td>\n",
       "      <td>70</td>\n",
       "      <td>90</td>\n",
       "      <td>84</td>\n",
       "      <td>64</td>\n",
       "      <td>85</td>\n",
       "      <td>85</td>\n",
       "      <td>G</td>\n",
       "    </tr>\n",
       "    <tr>\n",
       "      <th>1</th>\n",
       "      <td>student000001</td>\n",
       "      <td>85</td>\n",
       "      <td>76</td>\n",
       "      <td>65</td>\n",
       "      <td>61</td>\n",
       "      <td>73</td>\n",
       "      <td>64</td>\n",
       "      <td>76</td>\n",
       "      <td>76</td>\n",
       "      <td>G</td>\n",
       "    </tr>\n",
       "    <tr>\n",
       "      <th>2</th>\n",
       "      <td>student000002</td>\n",
       "      <td>85</td>\n",
       "      <td>41</td>\n",
       "      <td>73</td>\n",
       "      <td>61</td>\n",
       "      <td>73</td>\n",
       "      <td>61</td>\n",
       "      <td>73</td>\n",
       "      <td>73</td>\n",
       "      <td>G</td>\n",
       "    </tr>\n",
       "    <tr>\n",
       "      <th>3</th>\n",
       "      <td>student000003</td>\n",
       "      <td>80</td>\n",
       "      <td>78</td>\n",
       "      <td>80</td>\n",
       "      <td>79</td>\n",
       "      <td>79</td>\n",
       "      <td>57</td>\n",
       "      <td>80</td>\n",
       "      <td>79</td>\n",
       "      <td>G</td>\n",
       "    </tr>\n",
       "    <tr>\n",
       "      <th>4</th>\n",
       "      <td>student000004</td>\n",
       "      <td>85</td>\n",
       "      <td>70</td>\n",
       "      <td>55</td>\n",
       "      <td>40</td>\n",
       "      <td>41</td>\n",
       "      <td>0</td>\n",
       "      <td>60</td>\n",
       "      <td>50</td>\n",
       "      <td>W</td>\n",
       "    </tr>\n",
       "  </tbody>\n",
       "</table>\n",
       "</div>"
      ],
      "text/plain": [
       "      Student ID  Quiz01 [10]  Assignment01 [8]  Midterm Exam [20]  \\\n",
       "0  student000000           95                91                 70   \n",
       "1  student000001           85                76                 65   \n",
       "2  student000002           85                41                 73   \n",
       "3  student000003           80                78                 80   \n",
       "4  student000004           85                70                 55   \n",
       "\n",
       "   Assignment02 [12]  Assignment03 [25]  Final Exam [35]  Course Grade  \\\n",
       "0                 90                 84               64            85   \n",
       "1                 61                 73               64            76   \n",
       "2                 61                 73               61            73   \n",
       "3                 79                 79               57            80   \n",
       "4                 40                 41                0            60   \n",
       "\n",
       "   Total [100] Class  \n",
       "0           85     G  \n",
       "1           76     G  \n",
       "2           73     G  \n",
       "3           79     G  \n",
       "4           50     W  "
      ]
     },
     "execution_count": 62,
     "metadata": {},
     "output_type": "execute_result"
    }
   ],
   "source": [
    "df.head()"
   ]
  },
  {
   "cell_type": "code",
   "execution_count": 137,
   "id": "70b7581c-a1d3-4ede-b072-64d8b0811689",
   "metadata": {},
   "outputs": [],
   "source": [
    "import gradio as gr"
   ]
  },
  {
   "cell_type": "code",
   "execution_count": 147,
   "id": "e22a4f74",
   "metadata": {},
   "outputs": [
    {
     "name": "stdout",
     "output_type": "stream",
     "text": [
      "* Running on local URL:  http://127.0.0.1:7862\n",
      "\n",
      "To create a public link, set `share=True` in `launch()`.\n"
     ]
    },
    {
     "data": {
      "text/html": [
       "<div><iframe src=\"http://127.0.0.1:7862/\" width=\"100%\" height=\"500\" allow=\"autoplay; camera; microphone; clipboard-read; clipboard-write;\" frameborder=\"0\" allowfullscreen></iframe></div>"
      ],
      "text/plain": [
       "<IPython.core.display.HTML object>"
      ]
     },
     "metadata": {},
     "output_type": "display_data"
    },
    {
     "data": {
      "text/plain": []
     },
     "execution_count": 147,
     "metadata": {},
     "output_type": "execute_result"
    }
   ],
   "source": [
    "def Students_Performance_Prediction_Model(Q,A,ME,ASS,Ag,FE,CG,T):\n",
    "    try:\n",
    "        input_data=pd.DataFrame({\n",
    "            'Quiz01 [10]':[Q],\n",
    "            'Assignment01 [8]':[A],\n",
    "            'Midterm Exam [20]':[ME],\n",
    "            'Assignment02 [12]':[ASS],\n",
    "            'Assignment03 [25]':[Ag],\n",
    "            'Final Exam [35]':[FE],\n",
    "            'Course Grade':[CG],\n",
    "            'Total [100]':[T]\n",
    "        })\n",
    "        prediction=model.predict(input_data)\n",
    "        if prediction[0]==0:\n",
    "            return 'G'\n",
    "        else:\n",
    "            return 'W'\n",
    "    except Exception as e:\n",
    "        return str(e)\n",
    "gr.Interface(\n",
    "    inputs=[\n",
    "        gr.Number(label='Quiz01 [10]'),\n",
    "        gr.Number(label='Assignment01 [8]'),\n",
    "        gr.Number(label='Midterm Exam [20]'),\n",
    "        gr.Number(label='Assignment02 [12]'),\n",
    "        gr.Number(label='Assignment03 [25]'),\n",
    "        gr.Number(label='Final Exam [35]'),\n",
    "        gr.Number(label='Course Grade'),\n",
    "        gr.Number(label='Total [100]')\n",
    "        \n",
    "    ],\n",
    "    fn=Students_Performance_Prediction_Model,\n",
    "    outputs=gr.Textbox(label='Prediction Risk'),\n",
    "    title='prediction Program',\n",
    "    description='This program for predict Score Risk of Students'\n",
    ").launch()"
   ]
  },
  {
   "cell_type": "code",
   "execution_count": null,
   "id": "0d428008-7bc8-4b2a-889f-a7c1e02238ff",
   "metadata": {},
   "outputs": [],
   "source": []
  }
 ],
 "metadata": {
  "kernelspec": {
   "display_name": "Python 3 (ipykernel)",
   "language": "python",
   "name": "python3"
  },
  "language_info": {
   "codemirror_mode": {
    "name": "ipython",
    "version": 3
   },
   "file_extension": ".py",
   "mimetype": "text/x-python",
   "name": "python",
   "nbconvert_exporter": "python",
   "pygments_lexer": "ipython3",
   "version": "3.12.7"
  }
 },
 "nbformat": 4,
 "nbformat_minor": 5
}
